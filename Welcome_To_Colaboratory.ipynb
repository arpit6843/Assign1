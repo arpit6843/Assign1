
    {
      "cell_type": "code",
      "source": [
        "//Write a java program to add two float numbers like 8.6 and 9.7.\n",
        "\n",
        "\n",
        "public class Add \n",
        "{\n",
        "    public static void main (String[] args)\n",
        "    {\n",
        "        float a=8.6f;\n",
        "        float b=9.7f;\n",
        "        float sum=float.sum(a,b);\n",
        "     \n",
        "        System.out.println(\"Enter no 1\"+a);\n",
        "        System.out.println(\"Enter no 2\"+b);\n",
        "        System.out.println(\"Addition of 2 nos\"+sum);\n",
        "    }\n",
        "}\n",
        "\n"
      ],
